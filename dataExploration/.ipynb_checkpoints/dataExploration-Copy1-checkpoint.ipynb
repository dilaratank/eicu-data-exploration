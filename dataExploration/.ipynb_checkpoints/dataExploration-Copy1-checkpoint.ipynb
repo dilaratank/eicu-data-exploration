{
 "cells": [
  {
   "cell_type": "markdown",
   "id": "93b66549",
   "metadata": {},
   "source": [
    "# eICU data exploration"
   ]
  },
  {
   "cell_type": "markdown",
   "id": "c8349d37",
   "metadata": {},
   "source": [
    "Query results can be extracted like so:\n",
    "\n",
    "```qr = get_query_result(user=\"dtank\", database=\"eicu\", query=\"SELECT count(*) FROM patient;\")```\n",
    "\n",
    "CSV files of certain data can be extracted like so:\n",
    "\n",
    "```extract_csv(saveto=\"/home/dtank/data/volume_2/eicu_csv/noteTRY.csv\", variablestring=\"patientUnitStayID, notePath, noteText\", table=\"note\")```"
   ]
  },
  {
   "cell_type": "code",
   "execution_count": 2,
   "id": "861dd0fe",
   "metadata": {},
   "outputs": [],
   "source": [
    "import pandas as pd\n",
    "import numpy as np\n",
    "import matplotlib.pyplot as plt\n",
    "# !pip install tableone\n",
    "from tableone import TableOne, load_dataset\n",
    "\n",
    "from dataExtraction import get_query_result, extract_csv, get_df"
   ]
  },
  {
   "cell_type": "markdown",
   "id": "c11a0786",
   "metadata": {},
   "source": [
    "## Basic dataset characteristics\n"
   ]
  },
  {
   "cell_type": "code",
   "execution_count": null,
   "id": "b5ed4528",
   "metadata": {},
   "outputs": [],
   "source": [
    "print(\"Number of patients in the dataset: \", \n",
    "      get_query_result(user=\"dtank\", database=\"eicu\", query=\"SELECT COUNT(DISTINCT uniquePid) FROM patient;\")[0][0])\n",
    "print(\"Number of admissions in the dataset: \",\n",
    "     get_query_result(user=\"dtank\", database=\"eicu\", query=\"SELECT COUNT(*) FROM patient;\")[0][0])\n",
    "print(\"Number of hospitals in the dataset: \",\n",
    "     get_query_result(user=\"dtank\", database=\"eicu\", query=\"SELECT COUNT(DISTINCT hospitalID) FROM patient;\")[0][0])\n",
    "print(\"Number of wards in the dataset: \",\n",
    "     get_query_result(user=\"dtank\", database=\"eicu\", query=\"SELECT COUNT(DISTINCT wardID) FROM patient;\")[0][0])\n",
    "print(\"Number of admission diagnoses in the dataset: \",\n",
    "     get_query_result(user=\"dtank\", database=\"eicu\", query=\"SELECT COUNT(DISTINCT apacheAdmissionDx) FROM patient;\")[0][0])\n",
    "print(\"Number of ICU units in the dataset: \",\n",
    "     get_query_result(user=\"dtank\", database=\"eicu\", query=\"SELECT COUNT(DISTINCT unitType) FROM patient;\")[0][0])\n",
    "print(\"Years in the dataset: \",\n",
    "     get_query_result(user=\"dtank\", database=\"eicu\", query=\"SELECT DISTINCT hospitalDischargeYear FROM patient;\"))\n",
    "\n",
    "# also include country, year, version of the dataset"
   ]
  },
  {
   "cell_type": "markdown",
   "id": "31055bf2",
   "metadata": {},
   "source": [
    "## Patient characteristics"
   ]
  },
  {
   "cell_type": "markdown",
   "id": "b8588bba",
   "metadata": {},
   "source": [
    "### Patient characteristics statistics table\n",
    "We extract and preprocess the data, then use the [tableone](https://pypi.org/project/tableone/) package to make a patient characteristics table for both hospital and ICU mortality. "
   ]
  },
  {
   "cell_type": "code",
   "execution_count": 23,
   "id": "1d9fb4ad",
   "metadata": {},
   "outputs": [
    {
     "data": {
      "text/plain": [
       "<sqlalchemy.engine.base.Connection at 0x7fb69d7cbd30>"
      ]
     },
     "execution_count": 23,
     "metadata": {},
     "output_type": "execute_result"
    }
   ],
   "source": [
    "# !pip install sqlalchemy\n",
    "from sqlalchemy import create_engine\n",
    "\n",
    "engine = create_engine(\"postgresql+psycopg2://dtank:password@/eicu\")\n",
    "engine.connect()\n",
    "# pd.read_sql('SELECT * FROM patient;', con=engine)  "
   ]
  },
  {
   "cell_type": "code",
   "execution_count": 37,
   "id": "bf31d0c1",
   "metadata": {},
   "outputs": [
    {
     "name": "stdout",
     "output_type": "stream",
     "text": [
      "success\n"
     ]
    },
    {
     "data": {
      "text/plain": [
       "Engine(postgresql+psycopg2://dtank:***@/eicu)"
      ]
     },
     "execution_count": 37,
     "metadata": {},
     "output_type": "execute_result"
    }
   ],
   "source": [
    "from sqlalchemy import create_engine\n",
    "from sqlalchemy.exc import SQLAlchemyError\n",
    "engine = create_engine(\n",
    "    \"postgresql+psycopg2://dtank:password@/eicu\")\n",
    "try:\n",
    "    engine.connect()\n",
    "    print(\"success\")\n",
    "except SQLAlchemyError as err:\n",
    "    print(\"error\", err.__cause__)  # this will give what kind of error\n",
    "\n",
    "engine"
   ]
  },
  {
   "cell_type": "code",
   "execution_count": 39,
   "id": "65c1ec5f",
   "metadata": {},
   "outputs": [
    {
     "ename": "AttributeError",
     "evalue": "'OptionEngine' object has no attribute 'execute'",
     "output_type": "error",
     "traceback": [
      "\u001b[0;31m---------------------------------------------------------------------------\u001b[0m",
      "\u001b[0;31mAttributeError\u001b[0m                            Traceback (most recent call last)",
      "Cell \u001b[0;32mIn[39], line 2\u001b[0m\n\u001b[1;32m      1\u001b[0m myQuery \u001b[38;5;241m=\u001b[39m \u001b[38;5;124m\"\u001b[39m\u001b[38;5;124mSELECT * FROM patient;\u001b[39m\u001b[38;5;124m\"\u001b[39m\n\u001b[0;32m----> 2\u001b[0m df \u001b[38;5;241m=\u001b[39m \u001b[43mpd\u001b[49m\u001b[38;5;241;43m.\u001b[39;49m\u001b[43mread_sql_query\u001b[49m\u001b[43m(\u001b[49m\u001b[43mmyQuery\u001b[49m\u001b[43m,\u001b[49m\u001b[43m \u001b[49m\u001b[43mengine\u001b[49m\u001b[43m)\u001b[49m\n",
      "File \u001b[0;32m~/.local/lib/python3.8/site-packages/pandas/io/sql.py:397\u001b[0m, in \u001b[0;36mread_sql_query\u001b[0;34m(sql, con, index_col, coerce_float, params, parse_dates, chunksize, dtype)\u001b[0m\n\u001b[1;32m    339\u001b[0m \u001b[38;5;250m\u001b[39m\u001b[38;5;124;03m\"\"\"\u001b[39;00m\n\u001b[1;32m    340\u001b[0m \u001b[38;5;124;03mRead SQL query into a DataFrame.\u001b[39;00m\n\u001b[1;32m    341\u001b[0m \n\u001b[0;32m   (...)\u001b[0m\n\u001b[1;32m    394\u001b[0m \u001b[38;5;124;03mparameter will be converted to UTC.\u001b[39;00m\n\u001b[1;32m    395\u001b[0m \u001b[38;5;124;03m\"\"\"\u001b[39;00m\n\u001b[1;32m    396\u001b[0m pandas_sql \u001b[38;5;241m=\u001b[39m pandasSQL_builder(con)\n\u001b[0;32m--> 397\u001b[0m \u001b[38;5;28;01mreturn\u001b[39;00m \u001b[43mpandas_sql\u001b[49m\u001b[38;5;241;43m.\u001b[39;49m\u001b[43mread_query\u001b[49m\u001b[43m(\u001b[49m\n\u001b[1;32m    398\u001b[0m \u001b[43m    \u001b[49m\u001b[43msql\u001b[49m\u001b[43m,\u001b[49m\n\u001b[1;32m    399\u001b[0m \u001b[43m    \u001b[49m\u001b[43mindex_col\u001b[49m\u001b[38;5;241;43m=\u001b[39;49m\u001b[43mindex_col\u001b[49m\u001b[43m,\u001b[49m\n\u001b[1;32m    400\u001b[0m \u001b[43m    \u001b[49m\u001b[43mparams\u001b[49m\u001b[38;5;241;43m=\u001b[39;49m\u001b[43mparams\u001b[49m\u001b[43m,\u001b[49m\n\u001b[1;32m    401\u001b[0m \u001b[43m    \u001b[49m\u001b[43mcoerce_float\u001b[49m\u001b[38;5;241;43m=\u001b[39;49m\u001b[43mcoerce_float\u001b[49m\u001b[43m,\u001b[49m\n\u001b[1;32m    402\u001b[0m \u001b[43m    \u001b[49m\u001b[43mparse_dates\u001b[49m\u001b[38;5;241;43m=\u001b[39;49m\u001b[43mparse_dates\u001b[49m\u001b[43m,\u001b[49m\n\u001b[1;32m    403\u001b[0m \u001b[43m    \u001b[49m\u001b[43mchunksize\u001b[49m\u001b[38;5;241;43m=\u001b[39;49m\u001b[43mchunksize\u001b[49m\u001b[43m,\u001b[49m\n\u001b[1;32m    404\u001b[0m \u001b[43m    \u001b[49m\u001b[43mdtype\u001b[49m\u001b[38;5;241;43m=\u001b[39;49m\u001b[43mdtype\u001b[49m\u001b[43m,\u001b[49m\n\u001b[1;32m    405\u001b[0m \u001b[43m\u001b[49m\u001b[43m)\u001b[49m\n",
      "File \u001b[0;32m~/.local/lib/python3.8/site-packages/pandas/io/sql.py:1560\u001b[0m, in \u001b[0;36mSQLDatabase.read_query\u001b[0;34m(self, sql, index_col, coerce_float, parse_dates, params, chunksize, dtype)\u001b[0m\n\u001b[1;32m   1512\u001b[0m \u001b[38;5;250m\u001b[39m\u001b[38;5;124;03m\"\"\"\u001b[39;00m\n\u001b[1;32m   1513\u001b[0m \u001b[38;5;124;03mRead SQL query into a DataFrame.\u001b[39;00m\n\u001b[1;32m   1514\u001b[0m \n\u001b[0;32m   (...)\u001b[0m\n\u001b[1;32m   1556\u001b[0m \n\u001b[1;32m   1557\u001b[0m \u001b[38;5;124;03m\"\"\"\u001b[39;00m\n\u001b[1;32m   1558\u001b[0m args \u001b[38;5;241m=\u001b[39m _convert_params(sql, params)\n\u001b[0;32m-> 1560\u001b[0m result \u001b[38;5;241m=\u001b[39m \u001b[38;5;28;43mself\u001b[39;49m\u001b[38;5;241;43m.\u001b[39;49m\u001b[43mexecute\u001b[49m\u001b[43m(\u001b[49m\u001b[38;5;241;43m*\u001b[39;49m\u001b[43margs\u001b[49m\u001b[43m)\u001b[49m\n\u001b[1;32m   1561\u001b[0m columns \u001b[38;5;241m=\u001b[39m result\u001b[38;5;241m.\u001b[39mkeys()\n\u001b[1;32m   1563\u001b[0m \u001b[38;5;28;01mif\u001b[39;00m chunksize \u001b[38;5;129;01mis\u001b[39;00m \u001b[38;5;129;01mnot\u001b[39;00m \u001b[38;5;28;01mNone\u001b[39;00m:\n",
      "File \u001b[0;32m~/.local/lib/python3.8/site-packages/pandas/io/sql.py:1405\u001b[0m, in \u001b[0;36mSQLDatabase.execute\u001b[0;34m(self, *args, **kwargs)\u001b[0m\n\u001b[1;32m   1403\u001b[0m \u001b[38;5;28;01mdef\u001b[39;00m \u001b[38;5;21mexecute\u001b[39m(\u001b[38;5;28mself\u001b[39m, \u001b[38;5;241m*\u001b[39margs, \u001b[38;5;241m*\u001b[39m\u001b[38;5;241m*\u001b[39mkwargs):\n\u001b[1;32m   1404\u001b[0m \u001b[38;5;250m    \u001b[39m\u001b[38;5;124;03m\"\"\"Simple passthrough to SQLAlchemy connectable\"\"\"\u001b[39;00m\n\u001b[0;32m-> 1405\u001b[0m     \u001b[38;5;28;01mreturn\u001b[39;00m \u001b[38;5;28;43mself\u001b[39;49m\u001b[38;5;241;43m.\u001b[39;49m\u001b[43mconnectable\u001b[49m\u001b[38;5;241;43m.\u001b[39;49m\u001b[43mexecution_options\u001b[49m\u001b[43m(\u001b[49m\u001b[43m)\u001b[49m\u001b[38;5;241;43m.\u001b[39;49m\u001b[43mexecute\u001b[49m(\u001b[38;5;241m*\u001b[39margs, \u001b[38;5;241m*\u001b[39m\u001b[38;5;241m*\u001b[39mkwargs)\n",
      "\u001b[0;31mAttributeError\u001b[0m: 'OptionEngine' object has no attribute 'execute'"
     ]
    }
   ],
   "source": [
    "myQuery = \"SELECT * FROM patient;\"\n",
    "df = pd.read_sql_query(myQuery, engine)"
   ]
  },
  {
   "cell_type": "code",
   "execution_count": 7,
   "id": "a758107b",
   "metadata": {},
   "outputs": [
    {
     "ename": "AttributeError",
     "evalue": "'OptionEngine' object has no attribute 'execute'",
     "output_type": "error",
     "traceback": [
      "\u001b[0;31m---------------------------------------------------------------------------\u001b[0m",
      "\u001b[0;31mAttributeError\u001b[0m                            Traceback (most recent call last)",
      "Cell \u001b[0;32mIn[7], line 4\u001b[0m\n\u001b[1;32m      2\u001b[0m \u001b[38;5;66;03m# /var/run/postgresql\u001b[39;00m\n\u001b[1;32m      3\u001b[0m engine \u001b[38;5;241m=\u001b[39m create_engine(\u001b[38;5;124m'\u001b[39m\u001b[38;5;124mpostgresql+psycopg2://dtank:@var/run/postgresql:5432/eicu\u001b[39m\u001b[38;5;124m'\u001b[39m)\n\u001b[0;32m----> 4\u001b[0m df \u001b[38;5;241m=\u001b[39m \u001b[43mpd\u001b[49m\u001b[38;5;241;43m.\u001b[39;49m\u001b[43mread_sql\u001b[49m\u001b[43m(\u001b[49m\u001b[38;5;124;43m'\u001b[39;49m\u001b[38;5;124;43mSELECT * FROM patient;\u001b[39;49m\u001b[38;5;124;43m'\u001b[39;49m\u001b[43m,\u001b[49m\u001b[43m \u001b[49m\u001b[43mcon\u001b[49m\u001b[38;5;241;43m=\u001b[39;49m\u001b[43mengine\u001b[49m\u001b[43m)\u001b[49m  \n",
      "File \u001b[0;32m~/.local/lib/python3.8/site-packages/pandas/io/sql.py:590\u001b[0m, in \u001b[0;36mread_sql\u001b[0;34m(sql, con, index_col, coerce_float, params, parse_dates, columns, chunksize)\u001b[0m\n\u001b[1;32m    581\u001b[0m     \u001b[38;5;28;01mreturn\u001b[39;00m pandas_sql\u001b[38;5;241m.\u001b[39mread_table(\n\u001b[1;32m    582\u001b[0m         sql,\n\u001b[1;32m    583\u001b[0m         index_col\u001b[38;5;241m=\u001b[39mindex_col,\n\u001b[0;32m   (...)\u001b[0m\n\u001b[1;32m    587\u001b[0m         chunksize\u001b[38;5;241m=\u001b[39mchunksize,\n\u001b[1;32m    588\u001b[0m     )\n\u001b[1;32m    589\u001b[0m \u001b[38;5;28;01melse\u001b[39;00m:\n\u001b[0;32m--> 590\u001b[0m     \u001b[38;5;28;01mreturn\u001b[39;00m \u001b[43mpandas_sql\u001b[49m\u001b[38;5;241;43m.\u001b[39;49m\u001b[43mread_query\u001b[49m\u001b[43m(\u001b[49m\n\u001b[1;32m    591\u001b[0m \u001b[43m        \u001b[49m\u001b[43msql\u001b[49m\u001b[43m,\u001b[49m\n\u001b[1;32m    592\u001b[0m \u001b[43m        \u001b[49m\u001b[43mindex_col\u001b[49m\u001b[38;5;241;43m=\u001b[39;49m\u001b[43mindex_col\u001b[49m\u001b[43m,\u001b[49m\n\u001b[1;32m    593\u001b[0m \u001b[43m        \u001b[49m\u001b[43mparams\u001b[49m\u001b[38;5;241;43m=\u001b[39;49m\u001b[43mparams\u001b[49m\u001b[43m,\u001b[49m\n\u001b[1;32m    594\u001b[0m \u001b[43m        \u001b[49m\u001b[43mcoerce_float\u001b[49m\u001b[38;5;241;43m=\u001b[39;49m\u001b[43mcoerce_float\u001b[49m\u001b[43m,\u001b[49m\n\u001b[1;32m    595\u001b[0m \u001b[43m        \u001b[49m\u001b[43mparse_dates\u001b[49m\u001b[38;5;241;43m=\u001b[39;49m\u001b[43mparse_dates\u001b[49m\u001b[43m,\u001b[49m\n\u001b[1;32m    596\u001b[0m \u001b[43m        \u001b[49m\u001b[43mchunksize\u001b[49m\u001b[38;5;241;43m=\u001b[39;49m\u001b[43mchunksize\u001b[49m\u001b[43m,\u001b[49m\n\u001b[1;32m    597\u001b[0m \u001b[43m    \u001b[49m\u001b[43m)\u001b[49m\n",
      "File \u001b[0;32m~/.local/lib/python3.8/site-packages/pandas/io/sql.py:1560\u001b[0m, in \u001b[0;36mSQLDatabase.read_query\u001b[0;34m(self, sql, index_col, coerce_float, parse_dates, params, chunksize, dtype)\u001b[0m\n\u001b[1;32m   1512\u001b[0m \u001b[38;5;250m\u001b[39m\u001b[38;5;124;03m\"\"\"\u001b[39;00m\n\u001b[1;32m   1513\u001b[0m \u001b[38;5;124;03mRead SQL query into a DataFrame.\u001b[39;00m\n\u001b[1;32m   1514\u001b[0m \n\u001b[0;32m   (...)\u001b[0m\n\u001b[1;32m   1556\u001b[0m \n\u001b[1;32m   1557\u001b[0m \u001b[38;5;124;03m\"\"\"\u001b[39;00m\n\u001b[1;32m   1558\u001b[0m args \u001b[38;5;241m=\u001b[39m _convert_params(sql, params)\n\u001b[0;32m-> 1560\u001b[0m result \u001b[38;5;241m=\u001b[39m \u001b[38;5;28;43mself\u001b[39;49m\u001b[38;5;241;43m.\u001b[39;49m\u001b[43mexecute\u001b[49m\u001b[43m(\u001b[49m\u001b[38;5;241;43m*\u001b[39;49m\u001b[43margs\u001b[49m\u001b[43m)\u001b[49m\n\u001b[1;32m   1561\u001b[0m columns \u001b[38;5;241m=\u001b[39m result\u001b[38;5;241m.\u001b[39mkeys()\n\u001b[1;32m   1563\u001b[0m \u001b[38;5;28;01mif\u001b[39;00m chunksize \u001b[38;5;129;01mis\u001b[39;00m \u001b[38;5;129;01mnot\u001b[39;00m \u001b[38;5;28;01mNone\u001b[39;00m:\n",
      "File \u001b[0;32m~/.local/lib/python3.8/site-packages/pandas/io/sql.py:1405\u001b[0m, in \u001b[0;36mSQLDatabase.execute\u001b[0;34m(self, *args, **kwargs)\u001b[0m\n\u001b[1;32m   1403\u001b[0m \u001b[38;5;28;01mdef\u001b[39;00m \u001b[38;5;21mexecute\u001b[39m(\u001b[38;5;28mself\u001b[39m, \u001b[38;5;241m*\u001b[39margs, \u001b[38;5;241m*\u001b[39m\u001b[38;5;241m*\u001b[39mkwargs):\n\u001b[1;32m   1404\u001b[0m \u001b[38;5;250m    \u001b[39m\u001b[38;5;124;03m\"\"\"Simple passthrough to SQLAlchemy connectable\"\"\"\u001b[39;00m\n\u001b[0;32m-> 1405\u001b[0m     \u001b[38;5;28;01mreturn\u001b[39;00m \u001b[38;5;28;43mself\u001b[39;49m\u001b[38;5;241;43m.\u001b[39;49m\u001b[43mconnectable\u001b[49m\u001b[38;5;241;43m.\u001b[39;49m\u001b[43mexecution_options\u001b[49m\u001b[43m(\u001b[49m\u001b[43m)\u001b[49m\u001b[38;5;241;43m.\u001b[39;49m\u001b[43mexecute\u001b[49m(\u001b[38;5;241m*\u001b[39margs, \u001b[38;5;241m*\u001b[39m\u001b[38;5;241m*\u001b[39mkwargs)\n",
      "\u001b[0;31mAttributeError\u001b[0m: 'OptionEngine' object has no attribute 'execute'"
     ]
    }
   ],
   "source": [
    "from sqlalchemy import create_engine\n",
    "# /var/run/postgresql\n",
    "engine = create_engine('postgresql+psycopg2://dtank:@var/run/postgresql:5432/eicu')\n",
    "df = pd.read_sql('SELECT * FROM patient;', con=engine)  "
   ]
  },
  {
   "cell_type": "code",
   "execution_count": null,
   "id": "fd353e6e",
   "metadata": {},
   "outputs": [],
   "source": [
    "df"
   ]
  },
  {
   "cell_type": "code",
   "execution_count": null,
   "id": "f2c82f8d",
   "metadata": {},
   "outputs": [],
   "source": [
    "patientChar = get_df(variablestring=\"patientunitstayid, uniquePid, gender, age, ethnicity, admissionHeight, hospitalDischargeStatus, unitType, admissionWeight, unitDischargeStatus\", \n",
    "                     table=\"patient\")\n",
    "patientChar"
   ]
  },
  {
   "cell_type": "code",
   "execution_count": null,
   "id": "7e800a58",
   "metadata": {},
   "outputs": [],
   "source": [
    "patientChar['age'] = patientChar['age'].replace(\"> 89\", \"89\") # replace all > 89 with 89 entries \n",
    "# patientChar['age'] = patientChar['age'].astype('float') # convert age from strings to floats\n",
    "patientChar['age'][patientChar['age'] == ''] = None\n",
    "patientChar['age'] = patientChar['age'].astype(float)\n",
    "\n",
    "# renaming conventions\n",
    "patientChar['gender'] = patientChar['gender'].replace(\"Other\", \"Other/Unknown\") \n",
    "patientChar['gender'] = patientChar['gender'].replace(\"Unknown\", \"Other/Unknown\") \n",
    "\n",
    "patientChar['hospitaldischargestatus'] = patientChar['hospitaldischargestatus'].replace('Alive', 'Alive at hospital discharge')\n",
    "patientChar['hospitaldischargestatus'] = patientChar['hospitaldischargestatus'].replace('Expired', 'Dead at hospital discharge')\n",
    "\n",
    "patientChar['unitdischargestatus'] = patientChar['unitdischargestatus'].replace('Alive', 'Alive at ICU discharge')\n",
    "patientChar['unitdischargestatus'] = patientChar['unitdischargestatus'].replace('Expired', 'Dead at ICU discharge')\n",
    "\n",
    "# only for unique patients\n",
    "patientChar = patientChar.drop_duplicates(subset='uniquepid')\n",
    "patientChar"
   ]
  },
  {
   "cell_type": "code",
   "execution_count": null,
   "id": "d49554b9",
   "metadata": {},
   "outputs": [],
   "source": [
    "columns = ['gender', 'age', 'ethnicity', 'admissionheight', 'admissionweight', 'unittype']\n",
    "categorical = ['gender', 'ethnicity', 'unittype']\n",
    "labels = {'gender' : 'Gender', \n",
    "          'age' : 'Age', \n",
    "          'ethnicity' : 'Ethnicity', \n",
    "          'admissionheight' : 'Height', \n",
    "          'admissionweight' : 'Weight', \n",
    "          'unittype' : 'ICU Unit'}\n",
    "\n",
    "patientCharTableHospital = TableOne(patientChar, columns=columns, categorical=categorical, rename=labels, \n",
    "                                    label_suffix=True, nonnormal=['age'], groupby='hospitaldischargestatus', pval=True)\n",
    "\n",
    "patientCharTableICU = TableOne(patientChar, columns=columns, categorical=categorical, rename=labels, \n",
    "                               label_suffix=True, nonnormal=['age'], groupby='unitdischargestatus', pval=True)"
   ]
  },
  {
   "cell_type": "code",
   "execution_count": null,
   "id": "b86a5ad2",
   "metadata": {},
   "outputs": [],
   "source": [
    "patientCharTableHospital\n",
    "# print(patientCharTableHospital.tabulate(tablefmt = 'latex')) # print a latex formatted table"
   ]
  },
  {
   "cell_type": "code",
   "execution_count": null,
   "id": "36e3e926",
   "metadata": {},
   "outputs": [],
   "source": [
    "patientCharTableICU\n",
    "# print(patientCharTable.tabulate(tablefmt = 'latex')) # print a latex formatted table"
   ]
  },
  {
   "cell_type": "markdown",
   "id": "281fa26d",
   "metadata": {},
   "source": [
    "### Patient characteristics: mortality per ethnicity and age plot\n",
    "We preprocess the patient characteristics data, extract the amount of deaths per ethnicity and age group, divide these by their total ethnicity amount (ethnicity normalized) to get the ethnicity normalized mortality rate per 1000 people. "
   ]
  },
  {
   "cell_type": "code",
   "execution_count": null,
   "id": "6040e670",
   "metadata": {},
   "outputs": [],
   "source": [
    "patientCharPlot = pd.read_csv(\"/home/dtank/data/volume_2/eicu_csv/patientCharacteristics.csv\")\n",
    "patientCharPlot = patientCharPlot.drop_duplicates(subset='uniquepid')\n",
    "\n",
    "lastcat = [str(x) for x in list(range(80, 90))]\n",
    "lastcat.append('> 89')\n",
    "\n",
    "patientCharPlot['age'] = patientCharPlot['age'].replace(dict.fromkeys([str(x) for x in list(range(0, 20))], '0-20'))\n",
    "patientCharPlot['age'] = patientCharPlot['age'].replace(dict.fromkeys([str(x) for x in list(range(20, 30))], '20-30'))\n",
    "patientCharPlot['age'] = patientCharPlot['age'].replace(dict.fromkeys([str(x) for x in list(range(30, 40))], '30-40'))\n",
    "patientCharPlot['age'] = patientCharPlot['age'].replace(dict.fromkeys([str(x) for x in list(range(40, 50))], '40-50'))\n",
    "patientCharPlot['age'] = patientCharPlot['age'].replace(dict.fromkeys([str(x) for x in list(range(50, 60))], '50-60'))\n",
    "patientCharPlot['age'] = patientCharPlot['age'].replace(dict.fromkeys([str(x) for x in list(range(60, 70))], '60-70'))\n",
    "patientCharPlot['age'] = patientCharPlot['age'].replace(dict.fromkeys([str(x) for x in list(range(70, 80))], '70-80'))\n",
    "patientCharPlot['age'] = patientCharPlot['age'].replace(dict.fromkeys(lastcat, '80+'))\n",
    "patientCharPlot"
   ]
  },
  {
   "cell_type": "code",
   "execution_count": null,
   "id": "c5f8463a",
   "metadata": {},
   "outputs": [],
   "source": [
    "mortEthAge = patientCharPlot.groupby(['ethnicity', 'age'], as_index=False).hospitaldischargestatus.value_counts()\n",
    "mortEthAge = mortEthAge.tail(-1)\n",
    "mortEthAge = mortEthAge.iloc[::2].reset_index(drop=True)\n",
    "mortEthAge"
   ]
  },
  {
   "cell_type": "code",
   "execution_count": null,
   "id": "35171c8e",
   "metadata": {},
   "outputs": [],
   "source": [
    "AfAmTotal = len(patientChar[patientChar['ethnicity'] == 'African American']['ethnicity'])\n",
    "AsianTotal = len(patientChar[patientChar['ethnicity'] == 'Asian']['ethnicity'])\n",
    "CaucasTotal = len(patientChar[patientChar['ethnicity'] == 'Caucasian']['ethnicity'])\n",
    "NatAmTotal = len(patientChar[patientChar['ethnicity'] == 'Native American']['ethnicity'])\n",
    "UnknTotal = len(patientChar[patientChar['ethnicity'] == 'Other/Unknown']['ethnicity'])"
   ]
  },
  {
   "cell_type": "code",
   "execution_count": null,
   "id": "71877781",
   "metadata": {},
   "outputs": [],
   "source": [
    "AfAm = (mortEthAge[mortEthAge['ethnicity'] == 'African American']['count']/AfAmTotal*1000).to_list()\n",
    "Asian = (mortEthAge[mortEthAge['ethnicity'] == 'Asian']['count']/AsianTotal*1000).to_list()\n",
    "Caucas = (mortEthAge[mortEthAge['ethnicity'] == 'Caucasian']['count']/CaucasTotal*1000).to_list()\n",
    "NatAm = (mortEthAge[mortEthAge['ethnicity'] == 'Native American']['count']/NatAmTotal*1000).to_list()\n",
    "Unkn = (mortEthAge[mortEthAge['ethnicity'] == 'Other/Unknown']['count']/UnknTotal*1000).to_list()"
   ]
  },
  {
   "cell_type": "code",
   "execution_count": null,
   "id": "fa49aeca",
   "metadata": {},
   "outputs": [],
   "source": [
    "X = np.arange(8)\n",
    "fig = plt.figure(figsize=(15,6))\n",
    "margin = 0.8\n",
    "plt.bar(X + -0.4 * margin, AfAm, width = 0.2)\n",
    "plt.bar(X + -0.2 * margin, Asian, width = 0.2)\n",
    "plt.bar(X , Caucas, width = 0.2)\n",
    "plt.bar(X + 0.2 * margin, NatAm, width = 0.2)\n",
    "plt.bar(X + 0.4 * margin, Unkn, width = 0.2)\n",
    "plt.xlabel('age')\n",
    "plt.ylabel('ethnicity normalized mortality rate per 1000 people')\n",
    "plt.legend(labels=['African American', 'Asian', 'Caucasian', 'Native American', 'Other/Unkown'])\n",
    "plt.xticks((0, 1, 2, 3, 4, 5, 6, 7), ('0-20', '20-30', '30-40', '40-50', '50-60', '60-70', '70-80', '80+'))\n",
    "\n",
    "plt.show()"
   ]
  },
  {
   "cell_type": "code",
   "execution_count": null,
   "id": "49eaed7c",
   "metadata": {},
   "outputs": [],
   "source": [
    "X = np.arange(8)\n",
    "fig = plt.figure(figsize=(15,6))\n",
    "margin = 0.8\n",
    "plt.bar(X + -0.2, AfAm, width = 0.2)\n",
    "plt.bar(X , Caucas, width = 0.2)\n",
    "plt.xlabel('age')\n",
    "plt.ylabel('ethnicity normalized mortality rate per 1000 people')\n",
    "plt.legend(labels=['African American', 'Caucasian'])\n",
    "plt.xticks((0, 1, 2, 3, 4, 5, 6, 7), ('0-20', '20-30', '30-40', '40-50', '50-60', '60-70', '70-80', '80+'))\n",
    "\n",
    "plt.show()"
   ]
  },
  {
   "cell_type": "markdown",
   "id": "9b97fe5a",
   "metadata": {},
   "source": [
    "### Patient characteristics: frequency of hospital visits plot\n",
    "We preprocess the data, find the sum of the amount of hospital visits and plot it."
   ]
  },
  {
   "cell_type": "code",
   "execution_count": null,
   "id": "4454c2ca",
   "metadata": {},
   "outputs": [],
   "source": [
    "PatientCharPatVis = pd.read_csv(\"/home/dtank/data/volume_2/eicu_csv/patientCharacteristics.csv\")\n",
    "numuniquepats = len(np.unique(PatientCharPatVis['uniquepid']))\n",
    "visitAmount = PatientCharPatVis.uniquepid.value_counts()\n",
    "visitAmount = visitAmount.value_counts().rename_axis('visit_amount').reset_index(name='counts')\n",
    "visitAmount['percentage'] = visitAmount['counts']/numuniquepats * 100\n",
    "percentage5 = visitAmount[4:]['percentage'].sum()\n",
    "counts5 = visitAmount[4:]['counts'].sum()\n",
    "visitAmount = visitAmount.iloc[:4]\n",
    "visitAmount.loc[len(visitAmount.index)] = [5, counts5, percentage5]\n",
    "visitAmount['percentage'] = visitAmount['percentage'].round().astype('int')\n",
    "visitAmount['visit_amount'] = visitAmount['visit_amount'].astype('int')\n",
    "visitAmount"
   ]
  },
  {
   "cell_type": "code",
   "execution_count": null,
   "id": "f14dfa66",
   "metadata": {},
   "outputs": [],
   "source": [
    "labels= ['1 visit', '2 visits', '3 visits', '4 visits', '5+ visits']\n",
    "sizes= visitAmount['counts']\n",
    "plt.pie(sizes, startangle=90, shadow=True,explode=(0.1, 0.1, 0.2, 0.3, 0.4), autopct='%1.2f%%')\n",
    "plt.axis('equal')\n",
    "plt.legend(labels)\n",
    "plt.tight_layout()\n",
    "plt.title('Frequency of hospital visits')\n",
    "\n",
    "plt.show()"
   ]
  },
  {
   "cell_type": "markdown",
   "id": "85f45bee",
   "metadata": {},
   "source": [
    "## (Admission) Diagnoses"
   ]
  },
  {
   "cell_type": "code",
   "execution_count": null,
   "id": "45b0f748",
   "metadata": {},
   "outputs": [],
   "source": [
    "df = get_df(variablestring=\"patient.patientUnitStayID, patient.uniquePID, patient.apacheAdmissionDx, diagnosis.diagnosisString, diagnosis.ICD9Code\", table=\"patient, diagnosis\")"
   ]
  }
 ],
 "metadata": {
  "kernelspec": {
   "display_name": "Python 3 (ipykernel)",
   "language": "python",
   "name": "python3"
  },
  "language_info": {
   "codemirror_mode": {
    "name": "ipython",
    "version": 3
   },
   "file_extension": ".py",
   "mimetype": "text/x-python",
   "name": "python",
   "nbconvert_exporter": "python",
   "pygments_lexer": "ipython3",
   "version": "3.8.10"
  }
 },
 "nbformat": 4,
 "nbformat_minor": 5
}
